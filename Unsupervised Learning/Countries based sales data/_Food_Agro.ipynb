{
 "cells": [
  {
   "cell_type": "code",
   "execution_count": 1,
   "metadata": {},
   "outputs": [],
   "source": [
    "import numpy as np\n",
    "import pandas as pd\n",
    "import matplotlib.pyplot as plt"
   ]
  },
  {
   "cell_type": "code",
   "execution_count": 2,
   "metadata": {},
   "outputs": [
    {
     "data": {
      "text/html": [
       "<div>\n",
       "<style scoped>\n",
       "    .dataframe tbody tr th:only-of-type {\n",
       "        vertical-align: middle;\n",
       "    }\n",
       "\n",
       "    .dataframe tbody tr th {\n",
       "        vertical-align: top;\n",
       "    }\n",
       "\n",
       "    .dataframe thead th {\n",
       "        text-align: right;\n",
       "    }\n",
       "</style>\n",
       "<table border=\"1\" class=\"dataframe\">\n",
       "  <thead>\n",
       "    <tr style=\"text-align: right;\">\n",
       "      <th></th>\n",
       "      <th>1990</th>\n",
       "      <th>1991</th>\n",
       "      <th>1992</th>\n",
       "      <th>1993</th>\n",
       "      <th>1994</th>\n",
       "      <th>1995</th>\n",
       "      <th>1996</th>\n",
       "      <th>1997</th>\n",
       "      <th>1998</th>\n",
       "      <th>1999</th>\n",
       "      <th>2000</th>\n",
       "      <th>2001</th>\n",
       "      <th>2002</th>\n",
       "      <th>2003</th>\n",
       "      <th>2004</th>\n",
       "      <th>2005</th>\n",
       "      <th>2006</th>\n",
       "      <th>2007</th>\n",
       "    </tr>\n",
       "    <tr>\n",
       "      <th>Sales of Wheat in tons</th>\n",
       "      <th></th>\n",
       "      <th></th>\n",
       "      <th></th>\n",
       "      <th></th>\n",
       "      <th></th>\n",
       "      <th></th>\n",
       "      <th></th>\n",
       "      <th></th>\n",
       "      <th></th>\n",
       "      <th></th>\n",
       "      <th></th>\n",
       "      <th></th>\n",
       "      <th></th>\n",
       "      <th></th>\n",
       "      <th></th>\n",
       "      <th></th>\n",
       "      <th></th>\n",
       "      <th></th>\n",
       "    </tr>\n",
       "  </thead>\n",
       "  <tbody>\n",
       "    <tr>\n",
       "      <th>Afghanistan</th>\n",
       "      <td>436</td>\n",
       "      <td>429</td>\n",
       "      <td>422</td>\n",
       "      <td>415</td>\n",
       "      <td>407</td>\n",
       "      <td>397</td>\n",
       "      <td>397</td>\n",
       "      <td>387</td>\n",
       "      <td>374</td>\n",
       "      <td>373</td>\n",
       "      <td>346</td>\n",
       "      <td>326</td>\n",
       "      <td>304</td>\n",
       "      <td>308</td>\n",
       "      <td>283</td>\n",
       "      <td>267</td>\n",
       "      <td>251</td>\n",
       "      <td>238</td>\n",
       "    </tr>\n",
       "    <tr>\n",
       "      <th>Albania</th>\n",
       "      <td>42</td>\n",
       "      <td>40</td>\n",
       "      <td>41</td>\n",
       "      <td>42</td>\n",
       "      <td>42</td>\n",
       "      <td>43</td>\n",
       "      <td>42</td>\n",
       "      <td>44</td>\n",
       "      <td>43</td>\n",
       "      <td>42</td>\n",
       "      <td>40</td>\n",
       "      <td>34</td>\n",
       "      <td>32</td>\n",
       "      <td>32</td>\n",
       "      <td>29</td>\n",
       "      <td>29</td>\n",
       "      <td>26</td>\n",
       "      <td>22</td>\n",
       "    </tr>\n",
       "    <tr>\n",
       "      <th>Algeria</th>\n",
       "      <td>45</td>\n",
       "      <td>44</td>\n",
       "      <td>44</td>\n",
       "      <td>43</td>\n",
       "      <td>43</td>\n",
       "      <td>42</td>\n",
       "      <td>43</td>\n",
       "      <td>44</td>\n",
       "      <td>45</td>\n",
       "      <td>46</td>\n",
       "      <td>48</td>\n",
       "      <td>49</td>\n",
       "      <td>50</td>\n",
       "      <td>51</td>\n",
       "      <td>52</td>\n",
       "      <td>53</td>\n",
       "      <td>55</td>\n",
       "      <td>56</td>\n",
       "    </tr>\n",
       "    <tr>\n",
       "      <th>American Samoa</th>\n",
       "      <td>42</td>\n",
       "      <td>14</td>\n",
       "      <td>4</td>\n",
       "      <td>18</td>\n",
       "      <td>17</td>\n",
       "      <td>22</td>\n",
       "      <td>0</td>\n",
       "      <td>25</td>\n",
       "      <td>12</td>\n",
       "      <td>8</td>\n",
       "      <td>8</td>\n",
       "      <td>6</td>\n",
       "      <td>5</td>\n",
       "      <td>6</td>\n",
       "      <td>9</td>\n",
       "      <td>11</td>\n",
       "      <td>9</td>\n",
       "      <td>5</td>\n",
       "    </tr>\n",
       "    <tr>\n",
       "      <th>Andorra</th>\n",
       "      <td>39</td>\n",
       "      <td>37</td>\n",
       "      <td>35</td>\n",
       "      <td>33</td>\n",
       "      <td>32</td>\n",
       "      <td>30</td>\n",
       "      <td>28</td>\n",
       "      <td>23</td>\n",
       "      <td>24</td>\n",
       "      <td>22</td>\n",
       "      <td>20</td>\n",
       "      <td>20</td>\n",
       "      <td>21</td>\n",
       "      <td>18</td>\n",
       "      <td>19</td>\n",
       "      <td>18</td>\n",
       "      <td>17</td>\n",
       "      <td>19</td>\n",
       "    </tr>\n",
       "  </tbody>\n",
       "</table>\n",
       "</div>"
      ],
      "text/plain": [
       "                       1990 1991 1992 1993 1994 1995  1996  1997  1998  1999  \\\n",
       "Sales of Wheat in tons                                                         \n",
       "Afghanistan             436  429  422  415  407  397   397   387   374   373   \n",
       "Albania                  42   40   41   42   42   43    42    44    43    42   \n",
       "Algeria                  45   44   44   43   43   42    43    44    45    46   \n",
       "American Samoa           42   14    4   18   17   22     0    25    12     8   \n",
       "Andorra                  39   37   35   33   32   30    28    23    24    22   \n",
       "\n",
       "                        2000  2001  2002  2003 2004 2005 2006 2007  \n",
       "Sales of Wheat in tons                                              \n",
       "Afghanistan              346   326   304   308  283  267  251  238  \n",
       "Albania                   40    34    32    32   29   29   26   22  \n",
       "Algeria                   48    49    50    51   52   53   55   56  \n",
       "American Samoa             8     6     5     6    9   11    9    5  \n",
       "Andorra                   20    20    21    18   19   18   17   19  "
      ]
     },
     "execution_count": 2,
     "metadata": {},
     "output_type": "execute_result"
    }
   ],
   "source": [
    "# Reading Dataset\n",
    "data = pd.read_csv('Project_Data.csv', index_col = 0)\n",
    "data.head()"
   ]
  },
  {
   "cell_type": "code",
   "execution_count": 3,
   "metadata": {},
   "outputs": [
    {
     "name": "stdout",
     "output_type": "stream",
     "text": [
      "1990    0\n",
      "1991    0\n",
      "1992    0\n",
      "1993    0\n",
      "1994    0\n",
      "1995    0\n",
      "1996    2\n",
      "1997    1\n",
      "1998    2\n",
      "1999    1\n",
      "2000    2\n",
      "2001    2\n",
      "2002    0\n",
      "2003    3\n",
      "2004    0\n",
      "2005    0\n",
      "2006    0\n",
      "2007    0\n",
      "dtype: int64\n"
     ]
    }
   ],
   "source": [
    "# check for any missing values\n",
    "print((data == 0).sum())"
   ]
  },
  {
   "cell_type": "code",
   "execution_count": 4,
   "metadata": {},
   "outputs": [],
   "source": [
    "#Remove zero \n",
    "data = data.replace(0, np.NaN)\n",
    "data.dropna(inplace=True)"
   ]
  },
  {
   "cell_type": "code",
   "execution_count": 5,
   "metadata": {},
   "outputs": [],
   "source": [
    "#Rename Column\n",
    "data.index.names = ['country']\n",
    "data.columns.names = ['year']"
   ]
  },
  {
   "cell_type": "code",
   "execution_count": 6,
   "metadata": {},
   "outputs": [
    {
     "data": {
      "text/html": [
       "<div>\n",
       "<style scoped>\n",
       "    .dataframe tbody tr th:only-of-type {\n",
       "        vertical-align: middle;\n",
       "    }\n",
       "\n",
       "    .dataframe tbody tr th {\n",
       "        vertical-align: top;\n",
       "    }\n",
       "\n",
       "    .dataframe thead th {\n",
       "        text-align: right;\n",
       "    }\n",
       "</style>\n",
       "<table border=\"1\" class=\"dataframe\">\n",
       "  <thead>\n",
       "    <tr style=\"text-align: right;\">\n",
       "      <th>year</th>\n",
       "      <th>1990</th>\n",
       "      <th>1991</th>\n",
       "      <th>1992</th>\n",
       "      <th>1993</th>\n",
       "      <th>1994</th>\n",
       "      <th>1995</th>\n",
       "      <th>1996</th>\n",
       "      <th>1997</th>\n",
       "      <th>1998</th>\n",
       "      <th>1999</th>\n",
       "      <th>2000</th>\n",
       "      <th>2001</th>\n",
       "      <th>2002</th>\n",
       "      <th>2003</th>\n",
       "      <th>2004</th>\n",
       "      <th>2005</th>\n",
       "      <th>2006</th>\n",
       "      <th>2007</th>\n",
       "    </tr>\n",
       "    <tr>\n",
       "      <th>country</th>\n",
       "      <th></th>\n",
       "      <th></th>\n",
       "      <th></th>\n",
       "      <th></th>\n",
       "      <th></th>\n",
       "      <th></th>\n",
       "      <th></th>\n",
       "      <th></th>\n",
       "      <th></th>\n",
       "      <th></th>\n",
       "      <th></th>\n",
       "      <th></th>\n",
       "      <th></th>\n",
       "      <th></th>\n",
       "      <th></th>\n",
       "      <th></th>\n",
       "      <th></th>\n",
       "      <th></th>\n",
       "    </tr>\n",
       "  </thead>\n",
       "  <tbody>\n",
       "    <tr>\n",
       "      <th>Afghanistan</th>\n",
       "      <td>436</td>\n",
       "      <td>429</td>\n",
       "      <td>422</td>\n",
       "      <td>415</td>\n",
       "      <td>407</td>\n",
       "      <td>397</td>\n",
       "      <td>397.0</td>\n",
       "      <td>387.0</td>\n",
       "      <td>374.0</td>\n",
       "      <td>373.0</td>\n",
       "      <td>346.0</td>\n",
       "      <td>326.0</td>\n",
       "      <td>304</td>\n",
       "      <td>308.0</td>\n",
       "      <td>283</td>\n",
       "      <td>267</td>\n",
       "      <td>251</td>\n",
       "      <td>238</td>\n",
       "    </tr>\n",
       "    <tr>\n",
       "      <th>Albania</th>\n",
       "      <td>42</td>\n",
       "      <td>40</td>\n",
       "      <td>41</td>\n",
       "      <td>42</td>\n",
       "      <td>42</td>\n",
       "      <td>43</td>\n",
       "      <td>42.0</td>\n",
       "      <td>44.0</td>\n",
       "      <td>43.0</td>\n",
       "      <td>42.0</td>\n",
       "      <td>40.0</td>\n",
       "      <td>34.0</td>\n",
       "      <td>32</td>\n",
       "      <td>32.0</td>\n",
       "      <td>29</td>\n",
       "      <td>29</td>\n",
       "      <td>26</td>\n",
       "      <td>22</td>\n",
       "    </tr>\n",
       "    <tr>\n",
       "      <th>Algeria</th>\n",
       "      <td>45</td>\n",
       "      <td>44</td>\n",
       "      <td>44</td>\n",
       "      <td>43</td>\n",
       "      <td>43</td>\n",
       "      <td>42</td>\n",
       "      <td>43.0</td>\n",
       "      <td>44.0</td>\n",
       "      <td>45.0</td>\n",
       "      <td>46.0</td>\n",
       "      <td>48.0</td>\n",
       "      <td>49.0</td>\n",
       "      <td>50</td>\n",
       "      <td>51.0</td>\n",
       "      <td>52</td>\n",
       "      <td>53</td>\n",
       "      <td>55</td>\n",
       "      <td>56</td>\n",
       "    </tr>\n",
       "    <tr>\n",
       "      <th>Andorra</th>\n",
       "      <td>39</td>\n",
       "      <td>37</td>\n",
       "      <td>35</td>\n",
       "      <td>33</td>\n",
       "      <td>32</td>\n",
       "      <td>30</td>\n",
       "      <td>28.0</td>\n",
       "      <td>23.0</td>\n",
       "      <td>24.0</td>\n",
       "      <td>22.0</td>\n",
       "      <td>20.0</td>\n",
       "      <td>20.0</td>\n",
       "      <td>21</td>\n",
       "      <td>18.0</td>\n",
       "      <td>19</td>\n",
       "      <td>18</td>\n",
       "      <td>17</td>\n",
       "      <td>19</td>\n",
       "    </tr>\n",
       "    <tr>\n",
       "      <th>Angola</th>\n",
       "      <td>514</td>\n",
       "      <td>514</td>\n",
       "      <td>513</td>\n",
       "      <td>512</td>\n",
       "      <td>510</td>\n",
       "      <td>508</td>\n",
       "      <td>512.0</td>\n",
       "      <td>363.0</td>\n",
       "      <td>414.0</td>\n",
       "      <td>384.0</td>\n",
       "      <td>530.0</td>\n",
       "      <td>335.0</td>\n",
       "      <td>307</td>\n",
       "      <td>281.0</td>\n",
       "      <td>318</td>\n",
       "      <td>331</td>\n",
       "      <td>302</td>\n",
       "      <td>294</td>\n",
       "    </tr>\n",
       "  </tbody>\n",
       "</table>\n",
       "</div>"
      ],
      "text/plain": [
       "year        1990 1991 1992 1993 1994 1995   1996   1997   1998   1999   2000  \\\n",
       "country                                                                        \n",
       "Afghanistan  436  429  422  415  407  397  397.0  387.0  374.0  373.0  346.0   \n",
       "Albania       42   40   41   42   42   43   42.0   44.0   43.0   42.0   40.0   \n",
       "Algeria       45   44   44   43   43   42   43.0   44.0   45.0   46.0   48.0   \n",
       "Andorra       39   37   35   33   32   30   28.0   23.0   24.0   22.0   20.0   \n",
       "Angola       514  514  513  512  510  508  512.0  363.0  414.0  384.0  530.0   \n",
       "\n",
       "year          2001  2002   2003 2004 2005 2006 2007  \n",
       "country                                              \n",
       "Afghanistan  326.0   304  308.0  283  267  251  238  \n",
       "Albania       34.0    32   32.0   29   29   26   22  \n",
       "Algeria       49.0    50   51.0   52   53   55   56  \n",
       "Andorra       20.0    21   18.0   19   18   17   19  \n",
       "Angola       335.0   307  281.0  318  331  302  294  "
      ]
     },
     "execution_count": 6,
     "metadata": {},
     "output_type": "execute_result"
    }
   ],
   "source": [
    "data.head()"
   ]
  },
  {
   "cell_type": "code",
   "execution_count": 7,
   "metadata": {},
   "outputs": [
    {
     "name": "stdout",
     "output_type": "stream",
     "text": [
      "<class 'pandas.core.frame.DataFrame'>\n",
      "Index: 203 entries, Afghanistan to Zimbabwe\n",
      "Data columns (total 18 columns):\n",
      "1990    203 non-null object\n",
      "1991    203 non-null object\n",
      "1992    203 non-null object\n",
      "1993    203 non-null object\n",
      "1994    203 non-null object\n",
      "1995    203 non-null object\n",
      "1996    203 non-null float64\n",
      "1997    203 non-null float64\n",
      "1998    203 non-null float64\n",
      "1999    203 non-null float64\n",
      "2000    203 non-null float64\n",
      "2001    203 non-null float64\n",
      "2002    203 non-null int64\n",
      "2003    203 non-null float64\n",
      "2004    203 non-null object\n",
      "2005    203 non-null object\n",
      "2006    203 non-null object\n",
      "2007    203 non-null object\n",
      "dtypes: float64(7), int64(1), object(10)\n",
      "memory usage: 30.1+ KB\n"
     ]
    }
   ],
   "source": [
    "data.info()"
   ]
  },
  {
   "cell_type": "code",
   "execution_count": 8,
   "metadata": {},
   "outputs": [],
   "source": [
    "data['1990'] = data['1990'].str.replace(\",\",\"\").astype(float)\n",
    "data['1991'] = data['1991'].str.replace(\",\",\"\").astype(float)\n",
    "data['1992'] = data['1992'].str.replace(\",\",\"\").astype(float)\n",
    "data['1993'] = data['1993'].str.replace(\",\",\"\").astype(float)\n",
    "data['1994'] = data['1994'].str.replace(\",\",\"\").astype(float)\n",
    "data['1995'] = data['1995'].str.replace(\",\",\"\").astype(float)\n",
    "data['2004'] = data['2004'].str.replace(\",\",\"\").astype(float)\n",
    "data['2005'] = data['2005'].str.replace(\",\",\"\").astype(float)\n",
    "data['2006'] = data['2006'].str.replace(\",\",\"\").astype(float)\n",
    "data['2007'] = data['2007'].str.replace(\",\",\"\").astype(float)"
   ]
  },
  {
   "cell_type": "code",
   "execution_count": 9,
   "metadata": {},
   "outputs": [
    {
     "name": "stdout",
     "output_type": "stream",
     "text": [
      "<class 'pandas.core.frame.DataFrame'>\n",
      "Index: 203 entries, Afghanistan to Zimbabwe\n",
      "Data columns (total 18 columns):\n",
      "1990    203 non-null float64\n",
      "1991    203 non-null float64\n",
      "1992    203 non-null float64\n",
      "1993    203 non-null float64\n",
      "1994    203 non-null float64\n",
      "1995    203 non-null float64\n",
      "1996    203 non-null float64\n",
      "1997    203 non-null float64\n",
      "1998    203 non-null float64\n",
      "1999    203 non-null float64\n",
      "2000    203 non-null float64\n",
      "2001    203 non-null float64\n",
      "2002    203 non-null int64\n",
      "2003    203 non-null float64\n",
      "2004    203 non-null float64\n",
      "2005    203 non-null float64\n",
      "2006    203 non-null float64\n",
      "2007    203 non-null float64\n",
      "dtypes: float64(17), int64(1)\n",
      "memory usage: 30.1+ KB\n"
     ]
    }
   ],
   "source": [
    "data.info()"
   ]
  },
  {
   "cell_type": "markdown",
   "metadata": {},
   "source": [
    "__Dimensionality Reduction using PCA__"
   ]
  },
  {
   "cell_type": "markdown",
   "metadata": {},
   "source": [
    "__Scree Plot__"
   ]
  },
  {
   "cell_type": "code",
   "execution_count": 10,
   "metadata": {},
   "outputs": [],
   "source": [
    "from sklearn.decomposition import PCA"
   ]
  },
  {
   "cell_type": "code",
   "execution_count": 11,
   "metadata": {},
   "outputs": [
    {
     "data": {
      "image/png": "[encoded data removed]",
      "text/plain": [
       "<Figure size 432x288 with 1 Axes>"
      ]
     },
     "metadata": {
      "needs_background": "light"
     },
     "output_type": "display_data"
    }
   ],
   "source": [
    "pca = PCA().fit(data)\n",
    "plt.figure()\n",
    "plt.plot(np.cumsum(pca.explained_variance_ratio_))\n",
    "plt.xlabel('Number of Components')\n",
    "plt.ylabel('Variance (%)') #for each component\n",
    "plt.title('Pulsar Dataset Explained Variance')\n",
    "plt.grid(True)\n",
    "plt.show()"
   ]
  },
  {
   "cell_type": "code",
   "execution_count": 12,
   "metadata": {},
   "outputs": [
    {
     "data": {
      "image/png": "[encoded data removed]",
      "text/plain": [
       "<Figure size 432x288 with 1 Axes>"
      ]
     },
     "metadata": {
      "needs_background": "light"
     },
     "output_type": "display_data"
    }
   ],
   "source": [
    "#Scree plot \n",
    "plt.bar(range(pca.n_components_),pca.explained_variance_ratio_)\n",
    "plt.xticks(range(pca.n_components_))\n",
    "plt.grid(True)"
   ]
  },
  {
   "cell_type": "code",
   "execution_count": 13,
   "metadata": {},
   "outputs": [
    {
     "data": {
      "image/png": "[encoded data removed]",
      "text/plain": [
       "<Figure size 432x288 with 1 Axes>"
      ]
     },
     "metadata": {
      "needs_background": "light"
     },
     "output_type": "display_data"
    }
   ],
   "source": [
    "plt.plot(range(pca.n_components_),pca.explained_variance_ratio_)\n",
    "plt.xticks(range(pca.n_components_))\n",
    "plt.grid(True)"
   ]
  },
  {
   "cell_type": "markdown",
   "metadata": {},
   "source": [
    "__Confirm the value of n_components as 3__"
   ]
  },
  {
   "cell_type": "code",
   "execution_count": 14,
   "metadata": {},
   "outputs": [
    {
     "data": {
      "text/html": [
       "<div>\n",
       "<style scoped>\n",
       "    .dataframe tbody tr th:only-of-type {\n",
       "        vertical-align: middle;\n",
       "    }\n",
       "\n",
       "    .dataframe tbody tr th {\n",
       "        vertical-align: top;\n",
       "    }\n",
       "\n",
       "    .dataframe thead th {\n",
       "        text-align: right;\n",
       "    }\n",
       "</style>\n",
       "<table border=\"1\" class=\"dataframe\">\n",
       "  <thead>\n",
       "    <tr style=\"text-align: right;\">\n",
       "      <th></th>\n",
       "      <th>PC1</th>\n",
       "      <th>PC2</th>\n",
       "      <th>PC</th>\n",
       "    </tr>\n",
       "    <tr>\n",
       "      <th>country</th>\n",
       "      <th></th>\n",
       "      <th></th>\n",
       "      <th></th>\n",
       "    </tr>\n",
       "  </thead>\n",
       "  <tbody>\n",
       "    <tr>\n",
       "      <th>Afghanistan</th>\n",
       "      <td>721.112241</td>\n",
       "      <td>204.203491</td>\n",
       "      <td>-90.675582</td>\n",
       "    </tr>\n",
       "    <tr>\n",
       "      <th>Albania</th>\n",
       "      <td>-624.518353</td>\n",
       "      <td>6.551066</td>\n",
       "      <td>4.873375</td>\n",
       "    </tr>\n",
       "    <tr>\n",
       "      <th>Algeria</th>\n",
       "      <td>-580.553947</td>\n",
       "      <td>-35.056048</td>\n",
       "      <td>24.074278</td>\n",
       "    </tr>\n",
       "    <tr>\n",
       "      <th>Andorra</th>\n",
       "      <td>-673.004682</td>\n",
       "      <td>12.876423</td>\n",
       "      <td>28.048594</td>\n",
       "    </tr>\n",
       "    <tr>\n",
       "      <th>Angola</th>\n",
       "      <td>979.462066</td>\n",
       "      <td>295.086986</td>\n",
       "      <td>-67.018507</td>\n",
       "    </tr>\n",
       "  </tbody>\n",
       "</table>\n",
       "</div>"
      ],
      "text/plain": [
       "                    PC1         PC2         PC\n",
       "country                                       \n",
       "Afghanistan  721.112241  204.203491 -90.675582\n",
       "Albania     -624.518353    6.551066   4.873375\n",
       "Algeria     -580.553947  -35.056048  24.074278\n",
       "Andorra     -673.004682   12.876423  28.048594\n",
       "Angola       979.462066  295.086986 -67.018507"
      ]
     },
     "execution_count": 14,
     "metadata": {},
     "output_type": "execute_result"
    }
   ],
   "source": [
    "pca = PCA(n_components=3)\n",
    "principalComponents = pca.fit_transform(data)\n",
    "principalDf = pd.DataFrame(data = principalComponents\n",
    "             , columns = ['PC1','PC2','PC'])\n",
    "principalDf.index = data.index\n",
    "principalDf.head()"
   ]
  },
  {
   "cell_type": "markdown",
   "metadata": {},
   "source": [
    "### Using KMeans"
   ]
  },
  {
   "cell_type": "code",
   "execution_count": 15,
   "metadata": {},
   "outputs": [],
   "source": [
    "from sklearn.cluster import KMeans"
   ]
  },
  {
   "cell_type": "code",
   "execution_count": 16,
   "metadata": {},
   "outputs": [],
   "source": [
    "kmeans = KMeans(n_clusters=3)\n",
    "clusters = kmeans.fit(data)"
   ]
  },
  {
   "cell_type": "code",
   "execution_count": 17,
   "metadata": {},
   "outputs": [],
   "source": [
    "principalDf['cluster'] = pd.Series(clusters.labels_, index=principalDf.index)"
   ]
  },
  {
   "cell_type": "code",
   "execution_count": 18,
   "metadata": {},
   "outputs": [],
   "source": [
    "centroids = clusters.cluster_centers_"
   ]
  },
  {
   "cell_type": "code",
   "execution_count": 19,
   "metadata": {},
   "outputs": [
    {
     "data": {
      "image/png": "[encoded data removed]",
      "text/plain": [
       "<Figure size 720x360 with 1 Axes>"
      ]
     },
     "metadata": {
      "needs_background": "light"
     },
     "output_type": "display_data"
    }
   ],
   "source": [
    "plt.figure(figsize=(10,5))\n",
    "plt.scatter(principalDf.iloc[:, 0], principalDf.iloc[:, 1], c=principalDf.cluster, cmap = 'Set1')\n",
    "plt.grid(True)\n",
    "plt.show()"
   ]
  },
  {
   "cell_type": "code",
   "execution_count": 20,
   "metadata": {},
   "outputs": [
    {
     "data": {
      "text/html": [
       "<div>\n",
       "<style scoped>\n",
       "    .dataframe tbody tr th:only-of-type {\n",
       "        vertical-align: middle;\n",
       "    }\n",
       "\n",
       "    .dataframe tbody tr th {\n",
       "        vertical-align: top;\n",
       "    }\n",
       "\n",
       "    .dataframe thead th {\n",
       "        text-align: right;\n",
       "    }\n",
       "</style>\n",
       "<table border=\"1\" class=\"dataframe\">\n",
       "  <thead>\n",
       "    <tr style=\"text-align: right;\">\n",
       "      <th></th>\n",
       "      <th>PC1</th>\n",
       "      <th>PC2</th>\n",
       "      <th>PC</th>\n",
       "      <th>cluster</th>\n",
       "      <th>country_mean</th>\n",
       "      <th>country_mean_scaled</th>\n",
       "    </tr>\n",
       "    <tr>\n",
       "      <th>country</th>\n",
       "      <th></th>\n",
       "      <th></th>\n",
       "      <th></th>\n",
       "      <th></th>\n",
       "      <th></th>\n",
       "      <th></th>\n",
       "    </tr>\n",
       "  </thead>\n",
       "  <tbody>\n",
       "    <tr>\n",
       "      <th>Afghanistan</th>\n",
       "      <td>721.112241</td>\n",
       "      <td>204.203491</td>\n",
       "      <td>-90.675582</td>\n",
       "      <td>0</td>\n",
       "      <td>208.660037</td>\n",
       "      <td>0.302628</td>\n",
       "    </tr>\n",
       "    <tr>\n",
       "      <th>Albania</th>\n",
       "      <td>-624.518353</td>\n",
       "      <td>6.551066</td>\n",
       "      <td>4.873375</td>\n",
       "      <td>1</td>\n",
       "      <td>-153.023478</td>\n",
       "      <td>0.027379</td>\n",
       "    </tr>\n",
       "    <tr>\n",
       "      <th>Algeria</th>\n",
       "      <td>-580.553947</td>\n",
       "      <td>-35.056048</td>\n",
       "      <td>24.074278</td>\n",
       "      <td>1</td>\n",
       "      <td>-147.633929</td>\n",
       "      <td>0.031481</td>\n",
       "    </tr>\n",
       "    <tr>\n",
       "      <th>Andorra</th>\n",
       "      <td>-673.004682</td>\n",
       "      <td>12.876423</td>\n",
       "      <td>28.048594</td>\n",
       "      <td>1</td>\n",
       "      <td>-157.769916</td>\n",
       "      <td>0.023767</td>\n",
       "    </tr>\n",
       "    <tr>\n",
       "      <th>Angola</th>\n",
       "      <td>979.462066</td>\n",
       "      <td>295.086986</td>\n",
       "      <td>-67.018507</td>\n",
       "      <td>0</td>\n",
       "      <td>301.882636</td>\n",
       "      <td>0.373573</td>\n",
       "    </tr>\n",
       "  </tbody>\n",
       "</table>\n",
       "</div>"
      ],
      "text/plain": [
       "                    PC1         PC2         PC  cluster  country_mean  \\\n",
       "country                                                                 \n",
       "Afghanistan  721.112241  204.203491 -90.675582        0    208.660037   \n",
       "Albania     -624.518353    6.551066   4.873375        1   -153.023478   \n",
       "Algeria     -580.553947  -35.056048  24.074278        1   -147.633929   \n",
       "Andorra     -673.004682   12.876423  28.048594        1   -157.769916   \n",
       "Angola       979.462066  295.086986 -67.018507        0    301.882636   \n",
       "\n",
       "             country_mean_scaled  \n",
       "country                           \n",
       "Afghanistan             0.302628  \n",
       "Albania                 0.027379  \n",
       "Algeria                 0.031481  \n",
       "Andorra                 0.023767  \n",
       "Angola                  0.373573  "
      ]
     },
     "execution_count": 20,
     "metadata": {},
     "output_type": "execute_result"
    }
   ],
   "source": [
    "from sklearn.preprocessing import normalize\n",
    "\n",
    "principalDf['country_mean'] = pd.Series(principalDf.mean(axis=1), index=principalDf.index)\n",
    "country_mean_max = principalDf['country_mean'].max()\n",
    "country_mean_min = principalDf['country_mean'].min()\n",
    "country_mean_scaled = (principalDf.country_mean-country_mean_min) / country_mean_max\n",
    "principalDf['country_mean_scaled'] = pd.Series(\n",
    "    country_mean_scaled, \n",
    "    index=principalDf.index)\n",
    "principalDf.head()"
   ]
  },
  {
   "cell_type": "code",
   "execution_count": 21,
   "metadata": {},
   "outputs": [
    {
     "data": {
      "text/plain": [
       "<matplotlib.axes._subplots.AxesSubplot at 0x202ed805f60>"
      ]
     },
     "execution_count": 21,
     "metadata": {},
     "output_type": "execute_result"
    },
    {
     "data": {
      "image/png": "[encoded data removed]",
      "text/plain": [
       "<Figure size 1152x576 with 1 Axes>"
      ]
     },
     "metadata": {
      "needs_background": "light"
     },
     "output_type": "display_data"
    }
   ],
   "source": [
    "principalDf.plot(kind='scatter', x='PC2', y='PC1', s=principalDf['country_mean_scaled']*100, figsize=(16,8))"
   ]
  },
  {
   "cell_type": "code",
   "execution_count": 22,
   "metadata": {},
   "outputs": [],
   "source": [
    "principalDf['country_sum'] = pd.Series(data.sum(axis=1), index=principalDf.index)\n",
    "country_sum_max = principalDf['country_sum'].max()\n",
    "country_sum_min = principalDf['country_sum'].min()\n",
    "country_sum_scaled = (principalDf.country_sum-country_sum_min) / country_sum_max\n",
    "principalDf['country_sum_scaled'] = pd.Series(\n",
    "    country_sum_scaled, \n",
    "    index=principalDf.index)\n"
   ]
  },
  {
   "cell_type": "code",
   "execution_count": 23,
   "metadata": {},
   "outputs": [
    {
     "data": {
      "text/html": [
       "<div>\n",
       "<style scoped>\n",
       "    .dataframe tbody tr th:only-of-type {\n",
       "        vertical-align: middle;\n",
       "    }\n",
       "\n",
       "    .dataframe tbody tr th {\n",
       "        vertical-align: top;\n",
       "    }\n",
       "\n",
       "    .dataframe thead th {\n",
       "        text-align: right;\n",
       "    }\n",
       "</style>\n",
       "<table border=\"1\" class=\"dataframe\">\n",
       "  <thead>\n",
       "    <tr style=\"text-align: right;\">\n",
       "      <th></th>\n",
       "      <th>PC1</th>\n",
       "      <th>PC2</th>\n",
       "      <th>PC</th>\n",
       "      <th>cluster</th>\n",
       "      <th>country_mean</th>\n",
       "      <th>country_mean_scaled</th>\n",
       "      <th>country_sum</th>\n",
       "      <th>country_sum_scaled</th>\n",
       "      <th>country_change</th>\n",
       "      <th>country_change_scaled</th>\n",
       "    </tr>\n",
       "    <tr>\n",
       "      <th>country</th>\n",
       "      <th></th>\n",
       "      <th></th>\n",
       "      <th></th>\n",
       "      <th></th>\n",
       "      <th></th>\n",
       "      <th></th>\n",
       "      <th></th>\n",
       "      <th></th>\n",
       "      <th></th>\n",
       "      <th></th>\n",
       "    </tr>\n",
       "  </thead>\n",
       "  <tbody>\n",
       "    <tr>\n",
       "      <th>Afghanistan</th>\n",
       "      <td>721.112241</td>\n",
       "      <td>204.203491</td>\n",
       "      <td>-90.675582</td>\n",
       "      <td>0</td>\n",
       "      <td>208.660037</td>\n",
       "      <td>0.302628</td>\n",
       "      <td>6360.0</td>\n",
       "      <td>0.329731</td>\n",
       "      <td>-198.0</td>\n",
       "      <td>0.850840</td>\n",
       "    </tr>\n",
       "    <tr>\n",
       "      <th>Albania</th>\n",
       "      <td>-624.518353</td>\n",
       "      <td>6.551066</td>\n",
       "      <td>4.873375</td>\n",
       "      <td>1</td>\n",
       "      <td>-153.023478</td>\n",
       "      <td>0.027379</td>\n",
       "      <td>665.0</td>\n",
       "      <td>0.032420</td>\n",
       "      <td>-20.0</td>\n",
       "      <td>1.224790</td>\n",
       "    </tr>\n",
       "    <tr>\n",
       "      <th>Algeria</th>\n",
       "      <td>-580.553947</td>\n",
       "      <td>-35.056048</td>\n",
       "      <td>24.074278</td>\n",
       "      <td>1</td>\n",
       "      <td>-147.633929</td>\n",
       "      <td>0.031481</td>\n",
       "      <td>853.0</td>\n",
       "      <td>0.042234</td>\n",
       "      <td>11.0</td>\n",
       "      <td>1.289916</td>\n",
       "    </tr>\n",
       "    <tr>\n",
       "      <th>Andorra</th>\n",
       "      <td>-673.004682</td>\n",
       "      <td>12.876423</td>\n",
       "      <td>28.048594</td>\n",
       "      <td>1</td>\n",
       "      <td>-157.769916</td>\n",
       "      <td>0.023767</td>\n",
       "      <td>455.0</td>\n",
       "      <td>0.021457</td>\n",
       "      <td>-20.0</td>\n",
       "      <td>1.224790</td>\n",
       "    </tr>\n",
       "    <tr>\n",
       "      <th>Angola</th>\n",
       "      <td>979.462066</td>\n",
       "      <td>295.086986</td>\n",
       "      <td>-67.018507</td>\n",
       "      <td>0</td>\n",
       "      <td>301.882636</td>\n",
       "      <td>0.373573</td>\n",
       "      <td>7442.0</td>\n",
       "      <td>0.386218</td>\n",
       "      <td>-220.0</td>\n",
       "      <td>0.804622</td>\n",
       "    </tr>\n",
       "  </tbody>\n",
       "</table>\n",
       "</div>"
      ],
      "text/plain": [
       "                    PC1         PC2         PC  cluster  country_mean  \\\n",
       "country                                                                 \n",
       "Afghanistan  721.112241  204.203491 -90.675582        0    208.660037   \n",
       "Albania     -624.518353    6.551066   4.873375        1   -153.023478   \n",
       "Algeria     -580.553947  -35.056048  24.074278        1   -147.633929   \n",
       "Andorra     -673.004682   12.876423  28.048594        1   -157.769916   \n",
       "Angola       979.462066  295.086986 -67.018507        0    301.882636   \n",
       "\n",
       "             country_mean_scaled  country_sum  country_sum_scaled  \\\n",
       "country                                                             \n",
       "Afghanistan             0.302628       6360.0            0.329731   \n",
       "Albania                 0.027379        665.0            0.032420   \n",
       "Algeria                 0.031481        853.0            0.042234   \n",
       "Andorra                 0.023767        455.0            0.021457   \n",
       "Angola                  0.373573       7442.0            0.386218   \n",
       "\n",
       "             country_change  country_change_scaled  \n",
       "country                                             \n",
       "Afghanistan          -198.0               0.850840  \n",
       "Albania               -20.0               1.224790  \n",
       "Algeria                11.0               1.289916  \n",
       "Andorra               -20.0               1.224790  \n",
       "Angola               -220.0               0.804622  "
      ]
     },
     "execution_count": 23,
     "metadata": {},
     "output_type": "execute_result"
    }
   ],
   "source": [
    "principalDf['country_change'] = pd.Series(data['2007']-data['1990'], index=principalDf.index)\n",
    "country_change_max = principalDf['country_change'].max()\n",
    "country_change_min = principalDf['country_change'].min()\n",
    "country_change_scaled = (principalDf.country_change - country_change_min) / country_change_max\n",
    "principalDf['country_change_scaled'] = pd.Series(\n",
    "    country_change_scaled, \n",
    "    index=principalDf.index)\n",
    "principalDf.head()"
   ]
  },
  {
   "cell_type": "code",
   "execution_count": 24,
   "metadata": {},
   "outputs": [
    {
     "data": {
      "text/html": [
       "<div>\n",
       "<style scoped>\n",
       "    .dataframe tbody tr th:only-of-type {\n",
       "        vertical-align: middle;\n",
       "    }\n",
       "\n",
       "    .dataframe tbody tr th {\n",
       "        vertical-align: top;\n",
       "    }\n",
       "\n",
       "    .dataframe thead th {\n",
       "        text-align: right;\n",
       "    }\n",
       "</style>\n",
       "<table border=\"1\" class=\"dataframe\">\n",
       "  <thead>\n",
       "    <tr style=\"text-align: right;\">\n",
       "      <th></th>\n",
       "      <th>PC1</th>\n",
       "      <th>PC2</th>\n",
       "      <th>PC</th>\n",
       "      <th>cluster</th>\n",
       "      <th>country_mean</th>\n",
       "      <th>country_mean_scaled</th>\n",
       "      <th>country_sum</th>\n",
       "      <th>country_sum_scaled</th>\n",
       "      <th>country_change</th>\n",
       "      <th>country_change_scaled</th>\n",
       "    </tr>\n",
       "  </thead>\n",
       "  <tbody>\n",
       "    <tr>\n",
       "      <th>count</th>\n",
       "      <td>2.030000e+02</td>\n",
       "      <td>2.030000e+02</td>\n",
       "      <td>2.030000e+02</td>\n",
       "      <td>203.000000</td>\n",
       "      <td>203.000000</td>\n",
       "      <td>203.000000</td>\n",
       "      <td>203.000000</td>\n",
       "      <td>203.000000</td>\n",
       "      <td>203.000000</td>\n",
       "      <td>203.000000</td>\n",
       "    </tr>\n",
       "    <tr>\n",
       "      <th>mean</th>\n",
       "      <td>-1.120067e-15</td>\n",
       "      <td>1.232074e-14</td>\n",
       "      <td>5.600337e-16</td>\n",
       "      <td>0.832512</td>\n",
       "      <td>0.208128</td>\n",
       "      <td>0.143992</td>\n",
       "      <td>3312.990148</td>\n",
       "      <td>0.170660</td>\n",
       "      <td>-29.000000</td>\n",
       "      <td>1.205882</td>\n",
       "    </tr>\n",
       "    <tr>\n",
       "      <th>std</th>\n",
       "      <td>8.574619e+02</td>\n",
       "      <td>2.208472e+02</td>\n",
       "      <td>9.324216e+01</td>\n",
       "      <td>0.546390</td>\n",
       "      <td>222.583890</td>\n",
       "      <td>0.169391</td>\n",
       "      <td>3633.446306</td>\n",
       "      <td>0.189687</td>\n",
       "      <td>148.452513</td>\n",
       "      <td>0.311875</td>\n",
       "    </tr>\n",
       "    <tr>\n",
       "      <th>min</th>\n",
       "      <td>-7.707521e+02</td>\n",
       "      <td>-7.162842e+02</td>\n",
       "      <td>-4.010183e+02</td>\n",
       "      <td>0.000000</td>\n",
       "      <td>-189.000194</td>\n",
       "      <td>0.000000</td>\n",
       "      <td>44.000000</td>\n",
       "      <td>0.000000</td>\n",
       "      <td>-603.000000</td>\n",
       "      <td>0.000000</td>\n",
       "    </tr>\n",
       "    <tr>\n",
       "      <th>25%</th>\n",
       "      <td>-6.480101e+02</td>\n",
       "      <td>-1.538587e+01</td>\n",
       "      <td>-2.327534e+01</td>\n",
       "      <td>1.000000</td>\n",
       "      <td>-154.486493</td>\n",
       "      <td>0.026266</td>\n",
       "      <td>563.500000</td>\n",
       "      <td>0.027121</td>\n",
       "      <td>-71.000000</td>\n",
       "      <td>1.117647</td>\n",
       "    </tr>\n",
       "    <tr>\n",
       "      <th>50%</th>\n",
       "      <td>-4.127199e+02</td>\n",
       "      <td>2.446209e+00</td>\n",
       "      <td>1.492385e+01</td>\n",
       "      <td>1.000000</td>\n",
       "      <td>-103.752758</td>\n",
       "      <td>0.064875</td>\n",
       "      <td>1579.000000</td>\n",
       "      <td>0.080136</td>\n",
       "      <td>-19.000000</td>\n",
       "      <td>1.226891</td>\n",
       "    </tr>\n",
       "    <tr>\n",
       "      <th>75%</th>\n",
       "      <td>6.521427e+02</td>\n",
       "      <td>7.481872e+01</td>\n",
       "      <td>2.483260e+01</td>\n",
       "      <td>1.000000</td>\n",
       "      <td>133.180560</td>\n",
       "      <td>0.245187</td>\n",
       "      <td>6093.000000</td>\n",
       "      <td>0.315792</td>\n",
       "      <td>-2.000000</td>\n",
       "      <td>1.262605</td>\n",
       "    </tr>\n",
       "    <tr>\n",
       "      <th>max</th>\n",
       "      <td>3.788273e+03</td>\n",
       "      <td>8.634827e+02</td>\n",
       "      <td>8.905356e+02</td>\n",
       "      <td>2.000000</td>\n",
       "      <td>1314.021183</td>\n",
       "      <td>1.143833</td>\n",
       "      <td>19155.000000</td>\n",
       "      <td>0.997703</td>\n",
       "      <td>476.000000</td>\n",
       "      <td>2.266807</td>\n",
       "    </tr>\n",
       "  </tbody>\n",
       "</table>\n",
       "</div>"
      ],
      "text/plain": [
       "                PC1           PC2            PC     cluster  country_mean  \\\n",
       "count  2.030000e+02  2.030000e+02  2.030000e+02  203.000000    203.000000   \n",
       "mean  -1.120067e-15  1.232074e-14  5.600337e-16    0.832512      0.208128   \n",
       "std    8.574619e+02  2.208472e+02  9.324216e+01    0.546390    222.583890   \n",
       "min   -7.707521e+02 -7.162842e+02 -4.010183e+02    0.000000   -189.000194   \n",
       "25%   -6.480101e+02 -1.538587e+01 -2.327534e+01    1.000000   -154.486493   \n",
       "50%   -4.127199e+02  2.446209e+00  1.492385e+01    1.000000   -103.752758   \n",
       "75%    6.521427e+02  7.481872e+01  2.483260e+01    1.000000    133.180560   \n",
       "max    3.788273e+03  8.634827e+02  8.905356e+02    2.000000   1314.021183   \n",
       "\n",
       "       country_mean_scaled   country_sum  country_sum_scaled  country_change  \\\n",
       "count           203.000000    203.000000          203.000000      203.000000   \n",
       "mean              0.143992   3312.990148            0.170660      -29.000000   \n",
       "std               0.169391   3633.446306            0.189687      148.452513   \n",
       "min               0.000000     44.000000            0.000000     -603.000000   \n",
       "25%               0.026266    563.500000            0.027121      -71.000000   \n",
       "50%               0.064875   1579.000000            0.080136      -19.000000   \n",
       "75%               0.245187   6093.000000            0.315792       -2.000000   \n",
       "max               1.143833  19155.000000            0.997703      476.000000   \n",
       "\n",
       "       country_change_scaled  \n",
       "count             203.000000  \n",
       "mean                1.205882  \n",
       "std                 0.311875  \n",
       "min                 0.000000  \n",
       "25%                 1.117647  \n",
       "50%                 1.226891  \n",
       "75%                 1.262605  \n",
       "max                 2.266807  "
      ]
     },
     "execution_count": 24,
     "metadata": {},
     "output_type": "execute_result"
    }
   ],
   "source": [
    "principalDf.describe()"
   ]
  },
  {
   "cell_type": "markdown",
   "metadata": {},
   "source": [
    "### Using Hierarchial Clustering"
   ]
  },
  {
   "cell_type": "code",
   "execution_count": 25,
   "metadata": {},
   "outputs": [],
   "source": [
    "principalDf_hc= principalDf.iloc[:,0:3]"
   ]
  },
  {
   "cell_type": "code",
   "execution_count": 26,
   "metadata": {},
   "outputs": [
    {
     "data": {
      "text/html": [
       "<div>\n",
       "<style scoped>\n",
       "    .dataframe tbody tr th:only-of-type {\n",
       "        vertical-align: middle;\n",
       "    }\n",
       "\n",
       "    .dataframe tbody tr th {\n",
       "        vertical-align: top;\n",
       "    }\n",
       "\n",
       "    .dataframe thead th {\n",
       "        text-align: right;\n",
       "    }\n",
       "</style>\n",
       "<table border=\"1\" class=\"dataframe\">\n",
       "  <thead>\n",
       "    <tr style=\"text-align: right;\">\n",
       "      <th></th>\n",
       "      <th>PC1</th>\n",
       "      <th>PC2</th>\n",
       "      <th>PC</th>\n",
       "    </tr>\n",
       "    <tr>\n",
       "      <th>country</th>\n",
       "      <th></th>\n",
       "      <th></th>\n",
       "      <th></th>\n",
       "    </tr>\n",
       "  </thead>\n",
       "  <tbody>\n",
       "    <tr>\n",
       "      <th>Afghanistan</th>\n",
       "      <td>721.112241</td>\n",
       "      <td>204.203491</td>\n",
       "      <td>-90.675582</td>\n",
       "    </tr>\n",
       "    <tr>\n",
       "      <th>Albania</th>\n",
       "      <td>-624.518353</td>\n",
       "      <td>6.551066</td>\n",
       "      <td>4.873375</td>\n",
       "    </tr>\n",
       "    <tr>\n",
       "      <th>Algeria</th>\n",
       "      <td>-580.553947</td>\n",
       "      <td>-35.056048</td>\n",
       "      <td>24.074278</td>\n",
       "    </tr>\n",
       "    <tr>\n",
       "      <th>Andorra</th>\n",
       "      <td>-673.004682</td>\n",
       "      <td>12.876423</td>\n",
       "      <td>28.048594</td>\n",
       "    </tr>\n",
       "    <tr>\n",
       "      <th>Angola</th>\n",
       "      <td>979.462066</td>\n",
       "      <td>295.086986</td>\n",
       "      <td>-67.018507</td>\n",
       "    </tr>\n",
       "  </tbody>\n",
       "</table>\n",
       "</div>"
      ],
      "text/plain": [
       "                    PC1         PC2         PC\n",
       "country                                       \n",
       "Afghanistan  721.112241  204.203491 -90.675582\n",
       "Albania     -624.518353    6.551066   4.873375\n",
       "Algeria     -580.553947  -35.056048  24.074278\n",
       "Andorra     -673.004682   12.876423  28.048594\n",
       "Angola       979.462066  295.086986 -67.018507"
      ]
     },
     "execution_count": 26,
     "metadata": {},
     "output_type": "execute_result"
    }
   ],
   "source": [
    "principalDf_hc.head()"
   ]
  },
  {
   "cell_type": "code",
   "execution_count": 27,
   "metadata": {},
   "outputs": [],
   "source": [
    "from scipy.cluster.hierarchy import linkage, dendrogram, fcluster"
   ]
  },
  {
   "cell_type": "code",
   "execution_count": 28,
   "metadata": {
    "scrolled": true
   },
   "outputs": [
    {
     "data": {
      "image/png": "[encoded data removed]",
      "text/plain": [
       "<Figure size 1440x720 with 1 Axes>"
      ]
     },
     "metadata": {
      "needs_background": "light"
     },
     "output_type": "display_data"
    }
   ],
   "source": [
    "'Linkage does the hierarching'\n",
    "plt.figure(figsize=(20,10))\n",
    "mergings=linkage(principalDf_hc, method='complete')\n",
    "\n",
    "'Dendogram does the plotting'\n",
    "dendrogram(mergings, labels=principalDf.cluster,leaf_font_size=10, leaf_rotation=0)\n",
    "plt.grid(True)\n",
    "plt.show()"
   ]
  },
  {
   "cell_type": "code",
   "execution_count": 29,
   "metadata": {},
   "outputs": [],
   "source": [
    "dt = data\n",
    "data['consistentImpoter']=data.mean(axis=1)\n",
    "data['MaxImpoter'] =data.sum(axis=1)"
   ]
  },
  {
   "cell_type": "code",
   "execution_count": 45,
   "metadata": {},
   "outputs": [
    {
     "data": {
      "text/plain": [
       "country\n",
       "Djibouti            20219.166667\n",
       "Cambodia            14793.611111\n",
       "Kiribati            13354.888889\n",
       "Korea, Dem. Rep.    13045.611111\n",
       "Togo                12783.833333\n",
       "Sierra Leone        12409.111111\n",
       "Philippines         12248.666667\n",
       "Swaziland           12096.666667\n",
       "South Africa        11387.333333\n",
       "Mauritania          11292.333333\n",
       "Name: MaxImpoter, dtype: float64"
      ]
     },
     "execution_count": 45,
     "metadata": {},
     "output_type": "execute_result"
    }
   ],
   "source": [
    "#Maximum Importer\n",
    "dt.sort_values('MaxImpoter',ascending=0).iloc[:,-1].head(n=10)"
   ]
  },
  {
   "cell_type": "code",
   "execution_count": 46,
   "metadata": {},
   "outputs": [
    {
     "data": {
      "text/plain": [
       "country\n",
       "Djibouti            1064.166667\n",
       "Cambodia             778.611111\n",
       "Kiribati             702.888889\n",
       "Korea, Dem. Rep.     686.611111\n",
       "Togo                 672.833333\n",
       "Sierra Leone         653.111111\n",
       "Philippines          644.666667\n",
       "Swaziland            636.666667\n",
       "South Africa         599.333333\n",
       "Mauritania           594.333333\n",
       "Name: consistentImpoter, dtype: float64"
      ]
     },
     "execution_count": 46,
     "metadata": {},
     "output_type": "execute_result"
    }
   ],
   "source": [
    "#Consistent Importer\n",
    "dt.sort_values('consistentImpoter',ascending=0).iloc[:,-2].head(n=10)"
   ]
  }
 ],
 "metadata": {
  "kernelspec": {
   "display_name": "Python 3",
   "language": "python",
   "name": "python3"
  },
  "language_info": {
   "codemirror_mode": {
    "name": "ipython",
    "version": 3
   },
   "file_extension": ".py",
   "mimetype": "text/x-python",
   "name": "python",
   "nbconvert_exporter": "python",
   "pygments_lexer": "ipython3",
   "version": "3.7.3"
  }
 },
 "nbformat": 4,
 "nbformat_minor": 2
}
