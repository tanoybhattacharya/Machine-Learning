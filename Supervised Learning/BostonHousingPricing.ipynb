{
 "cells": [
  {
   "cell_type": "code",
   "execution_count": null,
   "id": "4a6cf837",
   "metadata": {},
   "outputs": [],
   "source": [
    "import numpy as np\n",
    "import pandas as pd\n",
    "import matplotlib.pyplot as plt\n",
    "import seaborn as sns"
   ]
  },
  {
   "cell_type": "markdown",
   "id": "d1ac0a33",
   "metadata": {},
   "source": [
    "Linear Regression related importent Librery"
   ]
  },
  {
   "cell_type": "code",
   "execution_count": null,
   "id": "3632eb68",
   "metadata": {},
   "outputs": [],
   "source": [
    "from sklearn.model_selection import train_test_split\n",
    "from sklearn.linear_model import LinearRegression\n",
    "from sklearn.metrics import mean_squared_error"
   ]
  },
  {
   "cell_type": "markdown",
   "id": "8b39d9e2",
   "metadata": {},
   "source": [
    "Load Data"
   ]
  },
  {
   "cell_type": "code",
   "execution_count": null,
   "id": "acae58a4",
   "metadata": {},
   "outputs": [],
   "source": [
    "bos = pd.read_csv(\"BostonHousing.csv\")\n",
    "bos.head()"
   ]
  },
  {
   "cell_type": "markdown",
   "id": "8f365ff1",
   "metadata": {},
   "source": [
    "Do some Statistical Analysis"
   ]
  },
  {
   "cell_type": "code",
   "execution_count": null,
   "id": "e728b778",
   "metadata": {},
   "outputs": [],
   "source": [
    "bos.describe()"
   ]
  },
  {
   "cell_type": "code",
   "execution_count": null,
   "id": "6ebddf60",
   "metadata": {},
   "outputs": [],
   "source": [
    "bos.info()"
   ]
  },
  {
   "cell_type": "code",
   "execution_count": null,
   "id": "bcb6378b",
   "metadata": {},
   "outputs": [],
   "source": [
    "bos.nunique()"
   ]
  },
  {
   "cell_type": "markdown",
   "id": "10ef8f69",
   "metadata": {},
   "source": [
    "Find out all the correlation value"
   ]
  },
  {
   "cell_type": "code",
   "execution_count": null,
   "id": "55e1478a",
   "metadata": {},
   "outputs": [],
   "source": [
    "bos.corr()"
   ]
  },
  {
   "cell_type": "code",
   "execution_count": null,
   "id": "37d0cc20",
   "metadata": {},
   "outputs": [],
   "source": [
    "plt.figure(figsize=(14,8))\n",
    "sns.heatmap(bos.corr(), annot=True, cmap='YlGnBu')\n",
    "plt.show()"
   ]
  },
  {
   "cell_type": "markdown",
   "id": "077dc548",
   "metadata": {},
   "source": [
    "We need to seperate Predictors/Factors/Independent Variable/Features from Target Variable/Dependent variable/ response variable"
   ]
  },
  {
   "cell_type": "code",
   "execution_count": null,
   "id": "5d939fb2",
   "metadata": {},
   "outputs": [],
   "source": [
    "x= bos.iloc[:,0:13]\n",
    "y = bos[\"medv\"]"
   ]
  },
  {
   "cell_type": "markdown",
   "id": "f946d108",
   "metadata": {},
   "source": [
    "Split Train and Test Dataset"
   ]
  },
  {
   "cell_type": "code",
   "execution_count": null,
   "id": "b45f2822",
   "metadata": {},
   "outputs": [],
   "source": [
    "x_train, x_test, y_train, y_test =train_test_split(x,y, test_size = 0.33, random_state =5)"
   ]
  },
  {
   "cell_type": "markdown",
   "id": "6dd44ae3",
   "metadata": {},
   "source": [
    "Create a Liner Regression Model"
   ]
  },
  {
   "cell_type": "code",
   "execution_count": null,
   "id": "1f2a711c",
   "metadata": {},
   "outputs": [],
   "source": [
    "lm = LinearRegression()\n",
    "model = lm.fit(x_train,y_train)"
   ]
  },
  {
   "cell_type": "markdown",
   "id": "ee50f9bb",
   "metadata": {},
   "source": [
    "Predict value"
   ]
  },
  {
   "cell_type": "code",
   "execution_count": null,
   "id": "e72363f1",
   "metadata": {},
   "outputs": [],
   "source": [
    "y_pred = lm.predict(x_test)"
   ]
  },
  {
   "cell_type": "markdown",
   "id": "20a2ae33",
   "metadata": {},
   "source": [
    "Find out R Saquare value"
   ]
  },
  {
   "cell_type": "code",
   "execution_count": null,
   "id": "efe311c5",
   "metadata": {},
   "outputs": [],
   "source": [
    "rmse= (np.sqrt(mean_squared_error(y_test, y_pred)))\n",
    "print(\"Root Mean Squared Error: {}\".format(rmse))"
   ]
  },
  {
   "cell_type": "markdown",
   "id": "bf8b38d6",
   "metadata": {},
   "source": [
    "Plot Actual and Predited Value"
   ]
  },
  {
   "cell_type": "code",
   "execution_count": null,
   "id": "66fec509",
   "metadata": {},
   "outputs": [],
   "source": [
    "plt.scatter(y_test,y_pred)\n",
    "plt.xlabel('Y Test')\n",
    "plt.ylabel('Predicted Y')"
   ]
  },
  {
   "cell_type": "markdown",
   "id": "6b461a89",
   "metadata": {},
   "source": [
    "Find out Top 5 importent field"
   ]
  },
  {
   "cell_type": "code",
   "execution_count": null,
   "id": "62fdcc48",
   "metadata": {},
   "outputs": [],
   "source": [
    "slopes =  pd.DataFrame({'Feature':x.columns, 'Coef':lm.coef_, 'Abs_coef': np.abs(lm.coef_)})\n",
    "slopes.sort_values(by = 'Abs_coef', ascending = False).head()"
   ]
  },
  {
   "cell_type": "code",
   "execution_count": null,
   "id": "d507fdc6",
   "metadata": {},
   "outputs": [],
   "source": []
  }
 ],
 "metadata": {
  "kernelspec": {
   "display_name": "Python 3 (ipykernel)",
   "language": "python",
   "name": "python3"
  },
  "language_info": {
   "codemirror_mode": {
    "name": "ipython",
    "version": 3
   },
   "file_extension": ".py",
   "mimetype": "text/x-python",
   "name": "python",
   "nbconvert_exporter": "python",
   "pygments_lexer": "ipython3",
   "version": "3.9.7"
  }
 },
 "nbformat": 4,
 "nbformat_minor": 5
}
