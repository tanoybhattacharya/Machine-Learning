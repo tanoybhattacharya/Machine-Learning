{
 "cells": [
  {
   "cell_type": "code",
   "execution_count": 1,
   "metadata": {},
   "outputs": [
    {
     "name": "stderr",
     "output_type": "stream",
     "text": [
      "C:\\ProgramData\\Anaconda3\\lib\\importlib\\_bootstrap.py:219: RuntimeWarning: numpy.ufunc size changed, may indicate binary incompatibility. Expected 192 from C header, got 216 from PyObject\n",
      "  return f(*args, **kwds)\n"
     ]
    }
   ],
   "source": [
    "import numpy as np\n",
    "import pandas as pd\n",
    "from sklearn.preprocessing import LabelEncoder, StandardScaler\n",
    "from sklearn.ensemble import RandomForestClassifier,VotingClassifier,AdaBoostClassifier\n",
    "from xgboost import XGBClassifier"
   ]
  },
  {
   "cell_type": "code",
   "execution_count": 10,
   "metadata": {},
   "outputs": [],
   "source": [
    "# Read training and test dataset\n",
    "train_df = pd.read_csv('train.csv')\n",
    "test_df = pd.read_csv('test.csv')"
   ]
  },
  {
   "cell_type": "code",
   "execution_count": 11,
   "metadata": {},
   "outputs": [],
   "source": [
    "le = LabelEncoder().fit(train_df.species)\n",
    "labels = le.transform(train_df.species)   #encode species strings\n",
    "classes = list(le.classes_)\n",
    "test_ids = test_df.id\n",
    "    \n",
    "    \n",
    "train_df = train_df.drop([\"species\" , \"id\"] , axis = 1)\n",
    "test_df =test_df.drop([\"id\"], axis =1)"
   ]
  },
  {
   "cell_type": "code",
   "execution_count": 14,
   "metadata": {},
   "outputs": [],
   "source": [
    "#Normalized data\n",
    "scaler = StandardScaler()\n",
    "scaled_data = scaler.fit_transform(train_df)\n",
    "scaled_test_data = scaler.transform(test_df)"
   ]
  },
  {
   "cell_type": "code",
   "execution_count": 25,
   "metadata": {},
   "outputs": [],
   "source": [
    "from sklearn.model_selection import train_test_split"
   ]
  },
  {
   "cell_type": "code",
   "execution_count": 26,
   "metadata": {},
   "outputs": [],
   "source": [
    "X_train,X_test,y_train,y_test = train_test_split(scaled_data,labels,test_size = .20,random_state =2)"
   ]
  },
  {
   "cell_type": "code",
   "execution_count": 24,
   "metadata": {},
   "outputs": [],
   "source": [
    "from sklearn import svm"
   ]
  },
  {
   "cell_type": "code",
   "execution_count": 27,
   "metadata": {},
   "outputs": [],
   "source": [
    "rf = RandomForestClassifier()\n",
    "sv = svm.SVC()\n",
    "xg = XGBClassifier()"
   ]
  },
  {
   "cell_type": "code",
   "execution_count": 29,
   "metadata": {},
   "outputs": [],
   "source": [
    "from sklearn.metrics import accuracy_score"
   ]
  },
  {
   "cell_type": "code",
   "execution_count": 30,
   "metadata": {},
   "outputs": [
    {
     "name": "stderr",
     "output_type": "stream",
     "text": [
      "C:\\ProgramData\\Anaconda3\\lib\\site-packages\\sklearn\\ensemble\\forest.py:246: FutureWarning: The default value of n_estimators will change from 10 in version 0.20 to 100 in 0.22.\n",
      "  \"10 in version 0.20 to 100 in 0.22.\", FutureWarning)\n",
      "C:\\ProgramData\\Anaconda3\\lib\\site-packages\\sklearn\\svm\\base.py:196: FutureWarning: The default value of gamma will change from 'auto' to 'scale' in version 0.22 to account better for unscaled features. Set gamma explicitly to 'auto' or 'scale' to avoid this warning.\n",
      "  \"avoid this warning.\", FutureWarning)\n"
     ]
    },
    {
     "name": "stdout",
     "output_type": "stream",
     "text": [
      "Accuracy Score of RandomForestClassifier:  0.86\n",
      "Accuracy Score of SVM:  0.99\n",
      "Accuracy Score of XGBClassifier:  0.85\n"
     ]
    }
   ],
   "source": [
    "print('Accuracy Score of RandomForestClassifier: ',round(accuracy_score(rf.fit(X_train,y_train).predict(X_test),y_test),2))\n",
    "print('Accuracy Score of SVM: ',round(accuracy_score(sv.fit(X_train,y_train).predict(X_test),y_test),2))\n",
    "print('Accuracy Score of XGBClassifier: ',round(accuracy_score(xg.fit(X_train,y_train).predict(X_test),y_test),2))"
   ]
  },
  {
   "cell_type": "code",
   "execution_count": 31,
   "metadata": {},
   "outputs": [
    {
     "name": "stderr",
     "output_type": "stream",
     "text": [
      "C:\\ProgramData\\Anaconda3\\lib\\site-packages\\sklearn\\svm\\base.py:196: FutureWarning: The default value of gamma will change from 'auto' to 'scale' in version 0.22 to account better for unscaled features. Set gamma explicitly to 'auto' or 'scale' to avoid this warning.\n",
      "  \"avoid this warning.\", FutureWarning)\n"
     ]
    },
    {
     "name": "stdout",
     "output_type": "stream",
     "text": [
      "Accuracy Score of VottingClassifier:  0.96\n"
     ]
    }
   ],
   "source": [
    "vt = VotingClassifier(estimators = [('rf', rf),('sv', sv),('xg', xg)],\n",
    "                                       voting = 'hard')\n",
    "print('Accuracy Score of VottingClassifier: ',round(accuracy_score(vt.fit(X_train,y_train).predict(X_test),y_test),2))"
   ]
  },
  {
   "cell_type": "code",
   "execution_count": 32,
   "metadata": {},
   "outputs": [
    {
     "name": "stderr",
     "output_type": "stream",
     "text": [
      "C:\\ProgramData\\Anaconda3\\lib\\site-packages\\sklearn\\model_selection\\_split.py:652: Warning: The least populated class in y has only 3 members, which is too few. The minimum number of members in any class cannot be less than n_splits=5.\n",
      "  % (min_groups, self.n_splits)), Warning)\n",
      "C:\\ProgramData\\Anaconda3\\lib\\site-packages\\sklearn\\svm\\base.py:196: FutureWarning: The default value of gamma will change from 'auto' to 'scale' in version 0.22 to account better for unscaled features. Set gamma explicitly to 'auto' or 'scale' to avoid this warning.\n",
      "  \"avoid this warning.\", FutureWarning)\n",
      "C:\\ProgramData\\Anaconda3\\lib\\site-packages\\sklearn\\svm\\base.py:196: FutureWarning: The default value of gamma will change from 'auto' to 'scale' in version 0.22 to account better for unscaled features. Set gamma explicitly to 'auto' or 'scale' to avoid this warning.\n",
      "  \"avoid this warning.\", FutureWarning)\n",
      "C:\\ProgramData\\Anaconda3\\lib\\site-packages\\sklearn\\svm\\base.py:196: FutureWarning: The default value of gamma will change from 'auto' to 'scale' in version 0.22 to account better for unscaled features. Set gamma explicitly to 'auto' or 'scale' to avoid this warning.\n",
      "  \"avoid this warning.\", FutureWarning)\n",
      "C:\\ProgramData\\Anaconda3\\lib\\site-packages\\sklearn\\svm\\base.py:196: FutureWarning: The default value of gamma will change from 'auto' to 'scale' in version 0.22 to account better for unscaled features. Set gamma explicitly to 'auto' or 'scale' to avoid this warning.\n",
      "  \"avoid this warning.\", FutureWarning)\n",
      "C:\\ProgramData\\Anaconda3\\lib\\site-packages\\sklearn\\svm\\base.py:196: FutureWarning: The default value of gamma will change from 'auto' to 'scale' in version 0.22 to account better for unscaled features. Set gamma explicitly to 'auto' or 'scale' to avoid this warning.\n",
      "  \"avoid this warning.\", FutureWarning)\n"
     ]
    },
    {
     "data": {
      "text/plain": [
       "0.9492195598535105"
      ]
     },
     "execution_count": 32,
     "metadata": {},
     "output_type": "execute_result"
    }
   ],
   "source": [
    "from sklearn.model_selection import cross_val_score\n",
    "scores=cross_val_score(vt, X_train,y_train, cv=5)"
   ]
  },
  {
   "cell_type": "code",
   "execution_count": 34,
   "metadata": {},
   "outputs": [
    {
     "name": "stdout",
     "output_type": "stream",
     "text": [
      "Prediction Accuracy: 0.95\n"
     ]
    }
   ],
   "source": [
    "print('Prediction Accuracy:' ,round(np.mean(scores),2))"
   ]
  },
  {
   "cell_type": "code",
   "execution_count": 35,
   "metadata": {},
   "outputs": [],
   "source": [
    "#Final Prediction\n",
    "fina_prect = vt.fit(scaled_data,labels).predict(scaled_test_data)"
   ]
  },
  {
   "cell_type": "code",
   "execution_count": 36,
   "metadata": {},
   "outputs": [
    {
     "data": {
      "text/plain": [
       "array([51, 50,  1, 19, 14,  3,  3, 28, 84,  8, 43, 74, 75, 10, 52, 46, 45,\n",
       "       73, 13, 71, 61, 68, 57, 77,  1, 70, 28, 15, 35, 70, 53, 74, 47, 50,\n",
       "        4, 36, 14, 55, 39, 93,  8, 32,  8,  9, 71, 70, 38, 23, 94, 18, 48,\n",
       "        5, 55, 94, 14, 86, 62, 33, 51, 98, 88, 56, 21, 59, 65, 11, 48,  5,\n",
       "       13,  4, 54, 57, 29,  7, 31, 98, 92, 84, 25, 10, 61, 43, 85, 24,  1,\n",
       "        2, 23, 83, 40, 22, 48, 90, 25, 21, 37, 56, 41, 95,  7, 89, 98, 77,\n",
       "        3, 12, 31, 84, 53, 96, 64, 72, 93, 93, 67, 30,  8, 88, 60, 87,  6,\n",
       "       57, 34, 81, 60, 17, 26, 27, 51, 31, 39, 23, 29,  2, 41, 61, 24, 97,\n",
       "       29, 28, 68, 81, 42, 51, 86, 62, 60, 52, 95, 64, 42, 96, 95, 20, 59,\n",
       "       35, 86,  1, 26, 38, 43, 56, 20, 60, 46, 43, 22, 79, 69, 87, 65, 97,\n",
       "       75, 21, 29, 21, 11, 10, 58, 94, 27, 22, 15, 45, 89, 54, 43,  5, 23,\n",
       "       94, 40, 49, 89, 72, 36, 11, 81, 95, 18, 91, 29, 64, 80,  6, 78, 45,\n",
       "       28,  9, 78, 90, 44, 89, 92, 13,  2, 59,  0, 96, 70, 32, 29, 78, 91,\n",
       "       55, 44, 38,  5, 60, 49, 58, 94, 67,  7, 88, 90, 79, 25, 37, 18,  0,\n",
       "       76, 27, 70, 71, 44, 70, 32, 81, 30, 82, 34, 30, 82, 96, 48, 65, 57,\n",
       "       64, 26, 53, 55, 73,  9,  3, 83, 26, 30, 63, 17, 22, 79, 63, 12, 78,\n",
       "       36, 14, 27, 25, 28, 38, 20, 54, 76, 69, 67, 97, 80, 44, 92, 69, 23,\n",
       "       21, 16, 51, 33, 77, 16, 11, 97,  1, 52, 39, 24, 52, 42, 17,  2, 73,\n",
       "       96, 83, 88,  9, 63, 50, 16, 38, 87, 95,  3, 35, 83, 60, 59, 58,  0,\n",
       "       50, 62, 38, 93, 68, 55, 46, 19, 46, 94,  7,  0, 33, 89, 40, 62, 48,\n",
       "       42,  6, 31, 91, 73, 81, 12, 85, 19,  6, 45,  2, 22, 35, 43,  6, 80,\n",
       "       78, 82,  5, 61, 37, 24, 33, 69, 56, 71, 45, 59, 42, 66, 86, 98, 83,\n",
       "       90, 64, 82, 11, 79, 56, 19, 49, 48, 20, 74, 15, 33, 49, 89, 44,  7,\n",
       "       35,  9, 55, 23, 34, 44, 32, 30, 36,  9, 72, 31, 61, 50, 82, 34, 29,\n",
       "       22, 92, 72, 11, 19,  4, 87, 51, 71, 39, 84, 32, 66, 36, 41, 31, 80,\n",
       "        4, 26, 68, 96, 20, 40, 34, 39, 56, 73, 76, 84,  7, 67, 37,  8, 95,\n",
       "       85, 62, 10, 65, 41,  2, 48, 86, 41, 52,  3, 49, 47, 76, 52, 16, 26,\n",
       "       88, 63, 45, 39, 66, 87, 75, 74,  7, 64, 65, 78, 63, 56, 21, 61, 88,\n",
       "       62, 91, 59, 12, 74, 15, 85,  8, 66, 57, 83, 82, 72, 58, 28, 17, 67,\n",
       "       66, 57, 66, 75, 35, 18,  9, 54, 91, 65, 19, 15, 10, 24, 71, 69, 48,\n",
       "       39, 98, 16, 19, 45, 74,  6, 67, 42, 34, 71, 47, 85, 28, 85, 47, 25,\n",
       "       27, 58, 68, 84, 97, 63, 97, 76, 81, 87, 77, 13,  0, 28, 41, 14, 12,\n",
       "       33, 86, 46,  4,  4, 47, 30,  9, 58, 13, 77, 98,  5, 49, 72, 53, 32,\n",
       "       77, 40, 68, 26, 92, 16, 81, 37, 14, 93, 80, 53, 46, 25, 50,  7, 37,\n",
       "       93,  0, 20, 54, 10, 91, 40, 81, 53, 18, 27,  1, 12, 54, 73, 15])"
      ]
     },
     "execution_count": 36,
     "metadata": {},
     "output_type": "execute_result"
    }
   ],
   "source": [
    "fina_prect"
   ]
  }
 ],
 "metadata": {
  "kernelspec": {
   "display_name": "Python 3",
   "language": "python",
   "name": "python3"
  },
  "language_info": {
   "codemirror_mode": {
    "name": "ipython",
    "version": 3
   },
   "file_extension": ".py",
   "mimetype": "text/x-python",
   "name": "python",
   "nbconvert_exporter": "python",
   "pygments_lexer": "ipython3",
   "version": "3.7.3"
  }
 },
 "nbformat": 4,
 "nbformat_minor": 2
}
